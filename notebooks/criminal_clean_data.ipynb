{
 "cells": [
  {
   "cell_type": "markdown",
   "metadata": {},
   "source": [
    "# Secretária de Segurança Pública - Ocorrências Criminais"
   ]
  },
  {
   "cell_type": "code",
   "execution_count": 3,
   "metadata": {},
   "outputs": [
    {
     "name": "stdout",
     "output_type": "stream",
     "text": [
      "O novo dataset foi salvo como ../data/SJCDadosCriminais_2024.csv.\n"
     ]
    }
   ],
   "source": [
    "import pandas as pd\n",
    "import matplotlib.pyplot as plt\n",
    "\n",
    "# Carregar o arquivo XLSX\n",
    "#caminho_arquivo = '../data/SPDadosCriminais_2022.xlsx'\n",
    "#caminho_arquivo = '../data/SPDadosCriminais_2023.xlsx'\n",
    "caminho_arquivo = '../data/SPDadosCriminais_2024.xlsx'\n",
    "\n",
    "# Carregar todas as planilhas em um dicionário de DataFrames\n",
    "planilhas = pd.read_excel(caminho_arquivo, sheet_name=None)\n",
    "\n",
    "# Combinar todas as planilhas em um único DataFrame (supondo que todas tenham a mesma estrutura)\n",
    "df_combined = pd.concat(planilhas.values())\n",
    "\n",
    "# Filtrar os dados para manter apenas as linhas onde a coluna 'CIDADE' é 'S.JOSE DOS CAMPOS'\n",
    "df_sao_jose = df_combined[df_combined['CIDADE'] == 'S.JOSE DOS CAMPOS']\n",
    "\n",
    "# Salvar o DataFrame filtrado em um arquivo CSV\n",
    "caminho_arquivo_csv = '../data/SJCDadosCriminais_2024.csv'\n",
    "df_sao_jose.to_csv(caminho_arquivo_csv, index=False)\n",
    "\n",
    "print(f\"O novo dataset foi salvo como {caminho_arquivo_csv}.\")\n"
   ]
  }
 ],
 "metadata": {
  "kernelspec": {
   "display_name": "Python 3",
   "language": "python",
   "name": "python3"
  },
  "language_info": {
   "codemirror_mode": {
    "name": "ipython",
    "version": 3
   },
   "file_extension": ".py",
   "mimetype": "text/x-python",
   "name": "python",
   "nbconvert_exporter": "python",
   "pygments_lexer": "ipython3",
   "version": "3.12.2"
  }
 },
 "nbformat": 4,
 "nbformat_minor": 2
}
