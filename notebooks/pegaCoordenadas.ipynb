{
 "cells": [
  {
   "cell_type": "code",
   "execution_count": null,
   "metadata": {},
   "outputs": [],
   "source": [
    "import pandas as pd\n",
    "from opencage.geocoder import OpenCageGeocode\n",
    "\n",
    "secao2020 = pd.read_csv('../data/votacao_secao-municipio_2020_sudeste_sp_sao_jose_dos_campos.csv', low_memory=False, delimiter=';',encoding='latin-1')\n",
    "\n",
    "# Use nunique() para contar o número de seções únicas\n",
    "numero_de_secoes = secao2020['nr_secao'].nunique()\n",
    "\n",
    "# Exiba o resultado\n",
    "print(f\"Existem {numero_de_secoes} seções eleitorais diferentes no arquivo.\")\n",
    "\n",
    "secoes_unicas = secao2020[['nr_zona','nr_secao', 'nm_local_votacao', 'ds_local_votacao_endereco']].drop_duplicates()\n",
    "\n",
    "# Substitua 'SUA_CHAVE_DO_OPENCAGE' pela chave de API real que você obteve\n",
    "sua_chave_do_opencage = '20728ac7e34a475ebe366dd4f122d06f'\n",
    "\n",
    "# Inicialize o geocoder do OpenCage\n",
    "geocoder = OpenCageGeocode(sua_chave_do_opencage)\n",
    "\n",
    "# Função para obter as coordenadas (latitude e longitude) a partir do endereço\n",
    "def obter_coordenadas_opencage(endereco):\n",
    "    try:\n",
    "        result = geocoder.geocode(endereco)\n",
    "        if result and len(result):\n",
    "            latitude = result[0]['geometry']['lat']\n",
    "            longitude = result[0]['geometry']['lng']\n",
    "            return latitude, longitude\n",
    "        else:\n",
    "            return None, None\n",
    "    except Exception as e:\n",
    "        print(f\"Erro ao geocodificar: {e}\")\n",
    "        return None, None\n",
    "\n",
    "# Aplique a função para obter as coordenadas a partir dos endereços no DataFrame\n",
    "secoes_unicas['latitude'], secoes_unicas['longitude'] = zip(*secoes_unicas['ds_local_votacao_endereco'].apply(obter_coordenadas_opencage))\n",
    "\n",
    "\n",
    "# Exiba o DataFrame resultante\n",
    "print(secoes_unicas)\n",
    "\n",
    "# Especifique o caminho e o nome do arquivo CSV de saída\n",
    "caminho_saida_csv = '../export/secoes_unicas.csv'\n",
    "\n",
    "# Exporte o DataFrame para o arquivo CSV\n",
    "secoes_unicas.to_csv(caminho_saida_csv, index=False)"
   ]
  }
 ],
 "metadata": {
  "language_info": {
   "name": "python"
  }
 },
 "nbformat": 4,
 "nbformat_minor": 2
}
