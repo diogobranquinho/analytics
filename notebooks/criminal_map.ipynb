{
 "cells": [
  {
   "cell_type": "markdown",
   "metadata": {},
   "source": [
    "# Secretária de Segurança Pública - Ocorrências Criminais Mapa de Calor"
   ]
  },
  {
   "cell_type": "code",
   "execution_count": null,
   "metadata": {},
   "outputs": [
    {
     "data": {
      "application/vnd.jupyter.widget-view+json": {
       "model_id": "6a750fbb43c14cebb82e36fcbf77d8ad",
       "version_major": 2,
       "version_minor": 0
      },
      "text/plain": [
       "Dropdown(description='Tipo de Crime:', index=2, options=('APREENSÃO DE ENTORPECENTES', 'ESTUPRO', 'ESTUPRO DE …"
      ]
     },
     "metadata": {},
     "output_type": "display_data"
    },
    {
     "data": {
      "application/vnd.jupyter.widget-view+json": {
       "model_id": "f8b76b68bd224ed0a7f4adeda0f728e7",
       "version_major": 2,
       "version_minor": 0
      },
      "text/plain": [
       "Dropdown(description='Ano:', options=('TODOS', 2022, 2023, 2024), value='TODOS')"
      ]
     },
     "metadata": {},
     "output_type": "display_data"
    },
    {
     "data": {
      "application/vnd.jupyter.widget-view+json": {
       "model_id": "d457adb4a9fa4eafa58b9abd6171faea",
       "version_major": 2,
       "version_minor": 0
      },
      "text/plain": [
       "Button(description='Gerar Mapa', style=ButtonStyle())"
      ]
     },
     "metadata": {},
     "output_type": "display_data"
    },
    {
     "data": {
      "text/html": [
       "\n",
       "    <p><b>Estatísticas para ESTUPRO DE VULNERÁVEL em TODOS:</b><br>\n",
       "    Total de Eventos: 302<br><br>\n",
       "    <b>Top 5 Bairros com Mais Incidências:</b><br>CAMPO DOS ALEMÃES: 15 ocorrências<br>JARDIM SATÉLITE: 10 ocorrências<br>BOSQUE DOS EUCALIPTOS: 7 ocorrências<br>CENTRO: 7 ocorrências<br>JARDIM JATOBA: 7 ocorrências<br>PARQUE INDUSTRIAL: 6 ocorrências<br>CAMPOS DE SÃO JOSÉ: 5 ocorrências<br>JARDIM DA GRANJA: 5 ocorrências<br>RESIDENCIAL GALO BRANCO: 5 ocorrências<br>VISTA VERDE: 4 ocorrências</p>\n",
       "    "
      ],
      "text/plain": [
       "<IPython.core.display.HTML object>"
      ]
     },
     "metadata": {},
     "output_type": "display_data"
    },
    {
     "data": {
      "text/html": [
       "<div style=\"width:100%;\"><div style=\"position:relative;width:100%;height:0;padding-bottom:60%;\"><span style=\"color:#565656\">Make this Notebook Trusted to load map: File -> Trust Notebook</span><iframe srcdoc=\"&lt;!DOCTYPE html&gt;\n",
       "&lt;html&gt;\n",
       "&lt;head&gt;\n",
       "    \n",
       "    &lt;meta http-equiv=&quot;content-type&quot; content=&quot;text/html; charset=UTF-8&quot; /&gt;\n",
       "    \n",
       "        &lt;script&gt;\n",
       "            L_NO_TOUCH = false;\n",
       "            L_DISABLE_3D = false;\n",
       "        &lt;/script&gt;\n",
       "    \n",
       "    &lt;style&gt;html, body {width: 100%;height: 100%;margin: 0;padding: 0;}&lt;/style&gt;\n",
       "    &lt;style&gt;#map {position:absolute;top:0;bottom:0;right:0;left:0;}&lt;/style&gt;\n",
       "    &lt;script src=&quot;https://cdn.jsdelivr.net/npm/leaflet@1.9.3/dist/leaflet.js&quot;&gt;&lt;/script&gt;\n",
       "    &lt;script src=&quot;https://code.jquery.com/jquery-3.7.1.min.js&quot;&gt;&lt;/script&gt;\n",
       "    &lt;script src=&quot;https://cdn.jsdelivr.net/npm/bootstrap@5.2.2/dist/js/bootstrap.bundle.min.js&quot;&gt;&lt;/script&gt;\n",
       "    &lt;script src=&quot;https://cdnjs.cloudflare.com/ajax/libs/Leaflet.awesome-markers/2.0.2/leaflet.awesome-markers.js&quot;&gt;&lt;/script&gt;\n",
       "    &lt;link rel=&quot;stylesheet&quot; href=&quot;https://cdn.jsdelivr.net/npm/leaflet@1.9.3/dist/leaflet.css&quot;/&gt;\n",
       "    &lt;link rel=&quot;stylesheet&quot; href=&quot;https://cdn.jsdelivr.net/npm/bootstrap@5.2.2/dist/css/bootstrap.min.css&quot;/&gt;\n",
       "    &lt;link rel=&quot;stylesheet&quot; href=&quot;https://netdna.bootstrapcdn.com/bootstrap/3.0.0/css/bootstrap-glyphicons.css&quot;/&gt;\n",
       "    &lt;link rel=&quot;stylesheet&quot; href=&quot;https://cdn.jsdelivr.net/npm/@fortawesome/fontawesome-free@6.2.0/css/all.min.css&quot;/&gt;\n",
       "    &lt;link rel=&quot;stylesheet&quot; href=&quot;https://cdnjs.cloudflare.com/ajax/libs/Leaflet.awesome-markers/2.0.2/leaflet.awesome-markers.css&quot;/&gt;\n",
       "    &lt;link rel=&quot;stylesheet&quot; href=&quot;https://cdn.jsdelivr.net/gh/python-visualization/folium/folium/templates/leaflet.awesome.rotate.min.css&quot;/&gt;\n",
       "    \n",
       "            &lt;meta name=&quot;viewport&quot; content=&quot;width=device-width,\n",
       "                initial-scale=1.0, maximum-scale=1.0, user-scalable=no&quot; /&gt;\n",
       "            &lt;style&gt;\n",
       "                #map_2cc9907a99e52be068877c75f2d0f74a {\n",
       "                    position: relative;\n",
       "                    width: 100.0%;\n",
       "                    height: 100.0%;\n",
       "                    left: 0.0%;\n",
       "                    top: 0.0%;\n",
       "                }\n",
       "                .leaflet-container { font-size: 1rem; }\n",
       "            &lt;/style&gt;\n",
       "        \n",
       "    &lt;script src=&quot;https://cdn.jsdelivr.net/gh/python-visualization/folium@main/folium/templates/leaflet_heat.min.js&quot;&gt;&lt;/script&gt;\n",
       "&lt;/head&gt;\n",
       "&lt;body&gt;\n",
       "    \n",
       "    \n",
       "    &lt;div style=&quot;position: fixed; \n",
       "         bottom: 50px; left: 50px; width: 200px; height: 150px; \n",
       "         border:2px solid grey; z-index:9999; font-size:14px;\n",
       "         background-color:white;\n",
       "         &quot;&gt;\n",
       "         &amp;nbsp;&lt;b&gt;Legenda&lt;/b&gt; &lt;br&gt;\n",
       "         &amp;nbsp;&lt;i style=&quot;color: blue;&quot;&gt;●&lt;/i&gt; Baixa Densidade &lt;br&gt;\n",
       "         &amp;nbsp;&lt;i style=&quot;color: green;&quot;&gt;●&lt;/i&gt; Média-Baixa Densidade &lt;br&gt;\n",
       "         &amp;nbsp;&lt;i style=&quot;color: yellow;&quot;&gt;●&lt;/i&gt; Média Densidade &lt;br&gt;\n",
       "         &amp;nbsp;&lt;i style=&quot;color: orange;&quot;&gt;●&lt;/i&gt; Média-Alta Densidade &lt;br&gt;\n",
       "         &amp;nbsp;&lt;i style=&quot;color: red;&quot;&gt;●&lt;/i&gt; Alta Densidade &lt;br&gt;\n",
       "    &lt;/div&gt;\n",
       "    \n",
       "    \n",
       "            &lt;div class=&quot;folium-map&quot; id=&quot;map_2cc9907a99e52be068877c75f2d0f74a&quot; &gt;&lt;/div&gt;\n",
       "        \n",
       "&lt;/body&gt;\n",
       "&lt;script&gt;\n",
       "    \n",
       "    \n",
       "            var map_2cc9907a99e52be068877c75f2d0f74a = L.map(\n",
       "                &quot;map_2cc9907a99e52be068877c75f2d0f74a&quot;,\n",
       "                {\n",
       "                    center: [-23.2237, -45.9009],\n",
       "                    crs: L.CRS.EPSG3857,\n",
       "                    zoom: 12,\n",
       "                    zoomControl: true,\n",
       "                    preferCanvas: false,\n",
       "                }\n",
       "            );\n",
       "\n",
       "            \n",
       "\n",
       "        \n",
       "    \n",
       "            var tile_layer_10cf3b818ed550b20fbbf89c6d265435 = L.tileLayer(\n",
       "                &quot;https://tile.openstreetmap.org/{z}/{x}/{y}.png&quot;,\n",
       "                {&quot;attribution&quot;: &quot;\\u0026copy; \\u003ca href=\\&quot;https://www.openstreetmap.org/copyright\\&quot;\\u003eOpenStreetMap\\u003c/a\\u003e contributors&quot;, &quot;detectRetina&quot;: false, &quot;maxNativeZoom&quot;: 19, &quot;maxZoom&quot;: 19, &quot;minZoom&quot;: 0, &quot;noWrap&quot;: false, &quot;opacity&quot;: 1, &quot;subdomains&quot;: &quot;abc&quot;, &quot;tms&quot;: false}\n",
       "            );\n",
       "        \n",
       "    \n",
       "            tile_layer_10cf3b818ed550b20fbbf89c6d265435.addTo(map_2cc9907a99e52be068877c75f2d0f74a);\n",
       "        \n",
       "    \n",
       "            var heat_map_26080b501a03515bdb612f1b3f90959e = L.heatLayer(\n",
       "                [[0.0, 0.0], [0.0, 0.0], [0.0, 0.0], [0.0, 0.0], [0.0, 0.0], [0.0, 0.0], [0.0, 0.0], [0.0, 0.0], [0.0, 0.0], [0.0, 0.0], [0.0, 0.0], [0.0, 0.0], [0.0, 0.0], [0.0, 0.0], [0.0, 0.0], [0.0, 0.0], [0.0, 0.0], [0.0, 0.0], [0.0, 0.0], [0.0, 0.0], [0.0, 0.0], [0.0, 0.0], [0.0, 0.0], [0.0, 0.0], [0.0, 0.0], [0.0, 0.0], [0.0, 0.0], [0.0, 0.0], [0.0, 0.0], [0.0, 0.0], [0.0, 0.0], [0.0, 0.0], [0.0, 0.0], [0.0, 0.0], [0.0, 0.0], [0.0, 0.0], [0.0, 0.0], [0.0, 0.0], [0.0, 0.0], [0.0, 0.0], [0.0, 0.0], [0.0, 0.0], [0.0, 0.0], [0.0, 0.0], [0.0, 0.0], [0.0, 0.0], [0.0, 0.0], [0.0, 0.0], [0.0, 0.0], [0.0, 0.0], [0.0, 0.0], [0.0, 0.0], [0.0, 0.0], [0.0, 0.0], [0.0, 0.0], [0.0, 0.0], [0.0, 0.0], [0.0, 0.0], [0.0, 0.0], [0.0, 0.0], [0.0, 0.0], [0.0, 0.0], [0.0, 0.0], [0.0, 0.0], [0.0, 0.0], [0.0, 0.0], [0.0, 0.0], [0.0, 0.0], [0.0, 0.0], [0.0, 0.0], [0.0, 0.0], [0.0, 0.0], [0.0, 0.0], [0.0, 0.0], [0.0, 0.0], [0.0, 0.0], [0.0, 0.0], [0.0, 0.0], [0.0, 0.0], [0.0, 0.0], [0.0, 0.0], [0.0, 0.0], [0.0, 0.0], [0.0, 0.0], [0.0, 0.0], [0.0, 0.0], [0.0, 0.0], [0.0, 0.0], [0.0, 0.0], [0.0, 0.0], [0.0, 0.0], [0.0, 0.0], [0.0, 0.0], [0.0, 0.0], [0.0, 0.0], [0.0, 0.0], [0.0, 0.0], [0.0, 0.0], [0.0, 0.0], [0.0, 0.0], [0.0, 0.0], [0.0, 0.0], [0.0, 0.0], [0.0, 0.0], [0.0, 0.0], [0.0, 0.0], [0.0, 0.0], [0.0, 0.0], [0.0, 0.0], [0.0, 0.0], [0.0, 0.0], [0.0, 0.0], [0.0, 0.0], [0.0, 0.0], [0.0, 0.0], [0.0, 0.0], [0.0, 0.0], [0.0, 0.0], [0.0, 0.0], [0.0, 0.0], [0.0, 0.0], [0.0, 0.0], [0.0, 0.0], [0.0, 0.0], [0.0, 0.0], [0.0, 0.0], [0.0, 0.0], [0.0, 0.0], [0.0, 0.0], [0.0, 0.0], [0.0, 0.0], [0.0, 0.0], [0.0, 0.0], [0.0, 0.0], [0.0, 0.0], [0.0, 0.0], [0.0, 0.0], [0.0, 0.0], [0.0, 0.0], [0.0, 0.0], [0.0, 0.0], [0.0, 0.0], [0.0, 0.0], [0.0, 0.0], [0.0, 0.0], [0.0, 0.0], [0.0, 0.0], [0.0, 0.0], [0.0, 0.0], [0.0, 0.0], [0.0, 0.0], [0.0, 0.0], [0.0, 0.0], [0.0, 0.0], [0.0, 0.0], [0.0, 0.0], [0.0, 0.0], [0.0, 0.0], [0.0, 0.0], [0.0, 0.0], [0.0, 0.0], [0.0, 0.0], [0.0, 0.0], [0.0, 0.0], [0.0, 0.0], [0.0, 0.0], [0.0, 0.0], [0.0, 0.0], [0.0, 0.0], [0.0, 0.0], [0.0, 0.0], [0.0, 0.0], [0.0, 0.0], [0.0, 0.0], [0.0, 0.0], [0.0, 0.0], [0.0, 0.0], [0.0, 0.0], [0.0, 0.0], [0.0, 0.0], [0.0, 0.0], [0.0, 0.0], [0.0, 0.0], [0.0, 0.0], [0.0, 0.0], [0.0, 0.0], [0.0, 0.0], [0.0, 0.0], [0.0, 0.0], [0.0, 0.0], [0.0, 0.0], [0.0, 0.0], [0.0, 0.0], [0.0, 0.0], [0.0, 0.0], [0.0, 0.0], [0.0, 0.0], [0.0, 0.0], [0.0, 0.0], [0.0, 0.0], [0.0, 0.0], [0.0, 0.0], [0.0, 0.0], [0.0, 0.0], [0.0, 0.0], [0.0, 0.0], [0.0, 0.0], [0.0, 0.0], [0.0, 0.0], [0.0, 0.0], [0.0, 0.0], [0.0, 0.0], [0.0, 0.0], [0.0, 0.0], [0.0, 0.0], [0.0, 0.0], [0.0, 0.0], [0.0, 0.0], [0.0, 0.0], [0.0, 0.0], [0.0, 0.0], [0.0, 0.0], [0.0, 0.0], [0.0, 0.0], [0.0, 0.0], [0.0, 0.0], [0.0, 0.0], [0.0, 0.0], [0.0, 0.0], [0.0, 0.0], [0.0, 0.0], [0.0, 0.0], [0.0, 0.0], [0.0, 0.0], [0.0, 0.0], [0.0, 0.0], [0.0, 0.0], [0.0, 0.0], [0.0, 0.0], [0.0, 0.0], [0.0, 0.0], [0.0, 0.0], [0.0, 0.0], [0.0, 0.0], [0.0, 0.0], [0.0, 0.0], [0.0, 0.0], [0.0, 0.0], [0.0, 0.0], [0.0, 0.0], [0.0, 0.0], [0.0, 0.0], [0.0, 0.0], [0.0, 0.0], [0.0, 0.0], [0.0, 0.0], [0.0, 0.0], [0.0, 0.0], [0.0, 0.0], [0.0, 0.0], [0.0, 0.0], [0.0, 0.0], [0.0, 0.0], [0.0, 0.0], [0.0, 0.0], [0.0, 0.0], [0.0, 0.0], [0.0, 0.0], [0.0, 0.0], [0.0, 0.0], [0.0, 0.0], [0.0, 0.0], [0.0, 0.0], [0.0, 0.0], [0.0, 0.0], [0.0, 0.0], [0.0, 0.0], [0.0, 0.0], [0.0, 0.0], [0.0, 0.0], [0.0, 0.0], [0.0, 0.0], [0.0, 0.0], [0.0, 0.0], [0.0, 0.0], [0.0, 0.0], [0.0, 0.0], [0.0, 0.0], [0.0, 0.0], [0.0, 0.0], [0.0, 0.0], [0.0, 0.0], [0.0, 0.0], [0.0, 0.0], [0.0, 0.0], [0.0, 0.0], [0.0, 0.0], [0.0, 0.0], [0.0, 0.0], [0.0, 0.0], [0.0, 0.0], [0.0, 0.0]],\n",
       "                {&quot;blur&quot;: 15, &quot;maxZoom&quot;: 18, &quot;minOpacity&quot;: 0.5, &quot;radius&quot;: 25}\n",
       "            );\n",
       "        \n",
       "    \n",
       "            heat_map_26080b501a03515bdb612f1b3f90959e.addTo(map_2cc9907a99e52be068877c75f2d0f74a);\n",
       "        \n",
       "    \n",
       "            tile_layer_10cf3b818ed550b20fbbf89c6d265435.addTo(map_2cc9907a99e52be068877c75f2d0f74a);\n",
       "        \n",
       "    \n",
       "            heat_map_26080b501a03515bdb612f1b3f90959e.addTo(map_2cc9907a99e52be068877c75f2d0f74a);\n",
       "        \n",
       "&lt;/script&gt;\n",
       "&lt;/html&gt;\" style=\"position:absolute;width:100%;height:100%;left:0;top:0;border:none !important;\" allowfullscreen webkitallowfullscreen mozallowfullscreen></iframe></div></div>"
      ],
      "text/plain": [
       "<folium.folium.Map at 0x120945610>"
      ]
     },
     "metadata": {},
     "output_type": "display_data"
    }
   ],
   "source": [
    "import pandas as pd\n",
    "import folium\n",
    "from folium.plugins import HeatMap\n",
    "import ipywidgets as widgets\n",
    "from IPython.display import display, HTML, clear_output\n",
    "\n",
    "# Coordenadas para o centro de São José dos Campos - SP\n",
    "centro_sjc = [-23.2237, -45.9009]\n",
    "\n",
    "# Carregar os três arquivos CSV\n",
    "file_path_2022 = '../data/SJCDadosCriminais_2022.csv'\n",
    "file_path_2023 = '../data/SJCDadosCriminais_2023.csv'\n",
    "file_path_2024 = '../data/SJCDadosCriminais_2024.csv'\n",
    "\n",
    "data_2022 = pd.read_csv(file_path_2022)\n",
    "data_2023 = pd.read_csv(file_path_2023)\n",
    "data_2024 = pd.read_csv(file_path_2024)\n",
    "\n",
    "# Concatenar os três DataFrames\n",
    "data = pd.concat([data_2022, data_2023, data_2024], ignore_index=True)\n",
    "\n",
    "# Obter todos os tipos de crimes únicos na coluna NATUREZA_APURADA\n",
    "natureza_apurada_unique = sorted(data['NATUREZA_APURADA'].unique())\n",
    "\n",
    "# Obter todos os anos únicos na coluna ANO_ESTATISTICA e adicionar a opção \"TODOS\"\n",
    "anos_unique = ['TODOS'] + sorted(data['ANO_ESTATISTICA'].unique())\n",
    "\n",
    "# Criar dropdowns para selecionar o tipo de crime e o ano\n",
    "crime_type_dropdown = widgets.Dropdown(\n",
    "    options=natureza_apurada_unique,\n",
    "    description='Tipo de Crime:',\n",
    "    disabled=False,\n",
    ")\n",
    "\n",
    "ano_dropdown = widgets.Dropdown(\n",
    "    options=anos_unique,\n",
    "    description='Ano:',\n",
    "    disabled=False,\n",
    ")\n",
    "\n",
    "# Função para gerar o mapa de mancha criminal com base no tipo de crime e ano selecionado\n",
    "def generate_crime_map(crime_type, ano):\n",
    "    clear_output(wait=True)  # Limpa a saída anterior\n",
    "    display(crime_type_dropdown, ano_dropdown, generate_button)  # Redesenha os widgets\n",
    "    \n",
    "    # Filtrar dados com base no tipo de crime e ano selecionado\n",
    "    if ano == 'TODOS':\n",
    "        data_filtered = data[data['NATUREZA_APURADA'] == crime_type]\n",
    "    else:\n",
    "        data_filtered = data[(data['NATUREZA_APURADA'] == crime_type) & (data['ANO_ESTATISTICA'] == ano)]\n",
    "    \n",
    "    # Filtrar apenas os dados com coordenadas válidas (para o mapa)\n",
    "    data_filtered_map = data_filtered[data_filtered['LATITUDE'].notnull() & data_filtered['LONGITUDE'].notnull()]\n",
    "    \n",
    "    # Criar o mapa centrado em São José dos Campos - SP\n",
    "    crime_map = folium.Map(location=centro_sjc, zoom_start=12)\n",
    "    \n",
    "    # Adicionar a mancha criminal usando HeatMap (apenas para dados com coordenadas)\n",
    "    heat_data = [[row['LATITUDE'], row['LONGITUDE']] for index, row in data_filtered_map.iterrows()]\n",
    "    HeatMap(heat_data).add_to(crime_map)\n",
    "    \n",
    "    # Adicionar uma legenda ao mapa\n",
    "    legend_html = \"\"\"\n",
    "    <div style=\"position: fixed; \n",
    "         bottom: 50px; left: 50px; width: 200px; height: 150px; \n",
    "         border:2px solid grey; z-index:9999; font-size:14px;\n",
    "         background-color:white;\n",
    "         \">\n",
    "         &nbsp;<b>Legenda</b> <br>\n",
    "         &nbsp;<i style=\"color: blue;\">●</i> Baixa Densidade <br>\n",
    "         &nbsp;<i style=\"color: green;\">●</i> Média-Baixa Densidade <br>\n",
    "         &nbsp;<i style=\"color: yellow;\">●</i> Média Densidade <br>\n",
    "         &nbsp;<i style=\"color: orange;\">●</i> Média-Alta Densidade <br>\n",
    "         &nbsp;<i style=\"color: red;\">●</i> Alta Densidade <br>\n",
    "    </div>\n",
    "    \"\"\"\n",
    "    crime_map.get_root().html.add_child(folium.Element(legend_html))\n",
    "    \n",
    "    # Exibir estatísticas (incluindo dados sem coordenadas)\n",
    "    num_eventos = data_filtered.shape[0]\n",
    "    \n",
    "    # Contagem de incidências por bairro\n",
    "    top_bairros = data_filtered['BAIRRO'].value_counts().head(10)\n",
    "    top_bairros_html = \"<br>\".join([f\"{bairro}: {count} ocorrências\" for bairro, count in top_bairros.items()])\n",
    "    \n",
    "    estatisticas_html = f\"\"\"\n",
    "    <p><b>Estatísticas para {crime_type} em {ano}:</b><br>\n",
    "    Total de Eventos: {num_eventos}<br><br>\n",
    "    <b>Top 5 Bairros com Mais Incidências:</b><br>{top_bairros_html}</p>\n",
    "    \"\"\"\n",
    "    display(HTML(estatisticas_html))\n",
    "    \n",
    "    # Salvar e exibir o mapa\n",
    "    crime_map.save('../export/crime_heat_map.html')\n",
    "    display(crime_map)\n",
    "\n",
    "# Criar um botão para gerar o mapa\n",
    "generate_button = widgets.Button(description=\"Gerar Mapa\")\n",
    "\n",
    "# Conectar o botão à função\n",
    "generate_button.on_click(lambda x: generate_crime_map(crime_type_dropdown.value, ano_dropdown.value))\n",
    "\n",
    "# Exibir widgets\n",
    "display(crime_type_dropdown)\n",
    "display(ano_dropdown)\n",
    "display(generate_button)\n"
   ]
  }
 ],
 "metadata": {
  "kernelspec": {
   "display_name": "Python 3",
   "language": "python",
   "name": "python3"
  },
  "language_info": {
   "codemirror_mode": {
    "name": "ipython",
    "version": 3
   },
   "file_extension": ".py",
   "mimetype": "text/x-python",
   "name": "python",
   "nbconvert_exporter": "python",
   "pygments_lexer": "ipython3",
   "version": "3.12.2"
  }
 },
 "nbformat": 4,
 "nbformat_minor": 2
}
